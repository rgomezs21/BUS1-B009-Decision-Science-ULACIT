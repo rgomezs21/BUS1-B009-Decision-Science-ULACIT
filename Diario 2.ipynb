{
 "cells": [
  {
   "cell_type": "code",
   "execution_count": 40,
   "id": "85f45310",
   "metadata": {},
   "outputs": [],
   "source": [
    "import math as mt\n",
    "import statistics as st\n",
    "import pandas as pd\n",
    "import numpy as np\n"
   ]
  },
  {
   "cell_type": "code",
   "execution_count": 42,
   "id": "3b09535b",
   "metadata": {},
   "outputs": [],
   "source": [
    "π = mt.pi"
   ]
  },
  {
   "cell_type": "markdown",
   "id": "fd3f9f94",
   "metadata": {},
   "source": [
    "1.a) ¿Cual es el resultado?"
   ]
  },
  {
   "cell_type": "markdown",
   "id": "c35eba28",
   "metadata": {},
   "source": [
    "1) r = π · 8^4\n"
   ]
  },
  {
   "cell_type": "code",
   "execution_count": 13,
   "id": "5ca9440f",
   "metadata": {},
   "outputs": [
    {
     "name": "stdout",
     "output_type": "stream",
     "text": [
      "12867.963509103793\n"
     ]
    }
   ],
   "source": [
    "parteuno = mt.pi * (8**4)\n",
    "print (parteuno)\n",
    "\n"
   ]
  },
  {
   "cell_type": "markdown",
   "id": "54615932",
   "metadata": {},
   "source": [
    "2) r = |1342 − 1677 · (9/7) − 6|"
   ]
  },
  {
   "cell_type": "code",
   "execution_count": 17,
   "id": "e39ad8dd",
   "metadata": {},
   "outputs": [
    {
     "name": "stdout",
     "output_type": "stream",
     "text": [
      "820.1428571428573\n"
     ]
    }
   ],
   "source": [
    "partedos = (abs)(1342 - (1677*(9/7)) - 6) \n",
    "print (partedos)"
   ]
  },
  {
   "attachments": {},
   "cell_type": "markdown",
   "id": "0291141b",
   "metadata": {},
   "source": [
    "3) r = 9!\n"
   ]
  },
  {
   "cell_type": "code",
   "execution_count": 20,
   "id": "fa18559b",
   "metadata": {},
   "outputs": [
    {
     "name": "stdout",
     "output_type": "stream",
     "text": [
      "362880\n"
     ]
    }
   ],
   "source": [
    "partetres = mt.factorial(9)\n",
    "print (partetres)"
   ]
  },
  {
   "cell_type": "markdown",
   "id": "a40d1f8b",
   "metadata": {},
   "source": [
    "4) r = log(7)\n",
    "\n"
   ]
  },
  {
   "cell_type": "code",
   "execution_count": 21,
   "id": "35f4ac91",
   "metadata": {},
   "outputs": [
    {
     "name": "stdout",
     "output_type": "stream",
     "text": [
      "0.8450980400142567\n"
     ]
    }
   ],
   "source": [
    "partecuatro = mt.log(7, 10)\n",
    "print (partecuatro)"
   ]
  },
  {
   "cell_type": "markdown",
   "id": "96412e5e",
   "metadata": {},
   "source": [
    "5) r = e^0,555457\n"
   ]
  },
  {
   "cell_type": "code",
   "execution_count": 24,
   "id": "a8ff43c4",
   "metadata": {},
   "outputs": [
    {
     "name": "stdout",
     "output_type": "stream",
     "text": [
      "1.7427372337331462\n"
     ]
    }
   ],
   "source": [
    "partecinco = (mt.e ** 0.555457)\n",
    "print (partecinco)"
   ]
  },
  {
   "cell_type": "markdown",
   "id": "38e21eaa",
   "metadata": {},
   "source": [
    "1.b) Calcule el valor de x si x = (2 + π ) / (7 + 2z^2)"
   ]
  },
  {
   "cell_type": "code",
   "execution_count": 26,
   "id": "768d50cf",
   "metadata": {},
   "outputs": [
    {
     "name": "stdout",
     "output_type": "stream",
     "text": [
      "3364.448798950513\n"
     ]
    }
   ],
   "source": [
    "parteb = (2 + (mt.pi/7) + (2*(41**2))) \n",
    "print (parteb)"
   ]
  },
  {
   "cell_type": "markdown",
   "id": "72a9d106",
   "metadata": {},
   "source": [
    "2. Dado x = (2, -6, 27, -8, -9, -21, 9, 5, 562, π) y dado y = (8, 9, -31, 18, -5, -18, 9, -22, 0, 9)\n",
    "realice lo siguiente:\n",
    "\n",
    "Introduzca x y y como listas en Python.\n",
    "\n",
    "Calcule la media, la varianza y la desviacion estandar de y.\n",
    "\n",
    "Calcule la correlacion entre x y y.\n",
    "\n",
    "Escriba comandos en Python para obtener la lista x invertida."
   ]
  },
  {
   "cell_type": "markdown",
   "id": "c85d8aea",
   "metadata": {},
   "source": [
    "Introduzca x y y como listas en Python."
   ]
  },
  {
   "cell_type": "code",
   "execution_count": 43,
   "id": "e98b8073",
   "metadata": {},
   "outputs": [
    {
     "data": {
      "text/plain": [
       "[2, -6, 27, -8, -9, -21, 9, 5, 562, 3.141592653589793]"
      ]
     },
     "execution_count": 43,
     "metadata": {},
     "output_type": "execute_result"
    }
   ],
   "source": [
    "x = [2, -6, 27, -8, -9, -21, 9, 5, 562, π]\n",
    "x"
   ]
  },
  {
   "cell_type": "code",
   "execution_count": 28,
   "id": "722142da",
   "metadata": {},
   "outputs": [
    {
     "data": {
      "text/plain": [
       "[8, 9, -31, 18, -5, -18, 9, -22, 0, 9]"
      ]
     },
     "execution_count": 28,
     "metadata": {},
     "output_type": "execute_result"
    }
   ],
   "source": [
    "y = [8, 9, -31, 18, -5, -18, 9, -22, 0, 9]\n",
    "y"
   ]
  },
  {
   "cell_type": "markdown",
   "id": "6f086f02",
   "metadata": {},
   "source": [
    "Calcule la media, la varianza y la desviacion estandar de y\n"
   ]
  },
  {
   "cell_type": "code",
   "execution_count": 30,
   "id": "af6648fb",
   "metadata": {},
   "outputs": [
    {
     "data": {
      "text/plain": [
       "-2.3"
      ]
     },
     "execution_count": 30,
     "metadata": {},
     "output_type": "execute_result"
    }
   ],
   "source": [
    "st.mean(y)"
   ]
  },
  {
   "cell_type": "code",
   "execution_count": 31,
   "id": "95a50b7f",
   "metadata": {},
   "outputs": [
    {
     "data": {
      "text/plain": [
       "237.21"
      ]
     },
     "execution_count": 31,
     "metadata": {},
     "output_type": "execute_result"
    }
   ],
   "source": [
    "st.pvariance(y)"
   ]
  },
  {
   "cell_type": "code",
   "execution_count": 32,
   "id": "55524f74",
   "metadata": {},
   "outputs": [
    {
     "data": {
      "text/plain": [
       "15.40162329106903"
      ]
     },
     "execution_count": 32,
     "metadata": {},
     "output_type": "execute_result"
    }
   ],
   "source": [
    "st.pstdev(y)"
   ]
  },
  {
   "cell_type": "markdown",
   "id": "f9a4b58c",
   "metadata": {},
   "source": [
    "Calcule la correlacion entre x y y"
   ]
  },
  {
   "cell_type": "code",
   "execution_count": 44,
   "id": "d8d38973",
   "metadata": {
    "scrolled": true
   },
   "outputs": [
    {
     "name": "stdout",
     "output_type": "stream",
     "text": [
      "[[1.         0.02692977]\n",
      " [0.02692977 1.        ]]\n"
     ]
    }
   ],
   "source": [
    "print (np.corrcoef(x,y))"
   ]
  },
  {
   "cell_type": "markdown",
   "id": "93650f00",
   "metadata": {},
   "source": [
    "Escriba comandos en Python para obtener la lista x invertida"
   ]
  },
  {
   "cell_type": "code",
   "execution_count": 33,
   "id": "6ec88060",
   "metadata": {},
   "outputs": [
    {
     "name": "stdout",
     "output_type": "stream",
     "text": [
      "[9, 0, -22, 9, -18, -5, 18, -31, 9, 8]\n"
     ]
    }
   ],
   "source": [
    "newy = list(reversed(y))\n",
    "print (newy)"
   ]
  },
  {
   "cell_type": "markdown",
   "id": "0ec1396d",
   "metadata": {},
   "source": [
    "3. Usando codigo Python (no archivos) en un DataFrame genere la siguiente tabla de datos:\n",
    "Sexo Peso Edad Nivel Educativo\n",
    "H 43 15 Lic\n",
    "M 35 21 Bach\n",
    "H 96 19 Bach\n",
    "M 56 17 Bach\n",
    "H 25 25 Dr\n",
    "M 48 35 MSc"
   ]
  },
  {
   "cell_type": "code",
   "execution_count": 37,
   "id": "70024120",
   "metadata": {},
   "outputs": [
    {
     "data": {
      "text/plain": [
       "{'sexo': ['H', 'M', 'H', 'M', 'H', 'M'],\n",
       " 'peso': ['43', '35', '96', '56', '25', '48'],\n",
       " 'edad': ['15', '21', '19', '17', '25', '35'],\n",
       " 'nivel educativo': ['Lic', 'Bach', 'Bach', 'Bach', 'Dr', 'MSc']}"
      ]
     },
     "execution_count": 37,
     "metadata": {},
     "output_type": "execute_result"
    }
   ],
   "source": [
    "preguntatres = {'sexo': [\"H\",\"M\",\"H\",\"M\",\"H\",\"M\"],\n",
    "                'peso': [\"43\", \"35\",\"96\",\"56\",\"25\",\"48\"],\n",
    "                'edad': [\"15\",\"21\",\"19\",\"17\",\"25\",\"35\"],\n",
    "                'nivel educativo': [\"Lic\",\"Bach\",\"Bach\",\"Bach\",\"Dr\",\"MSc\"]}\n",
    "preguntatres"
   ]
  },
  {
   "cell_type": "code",
   "execution_count": 38,
   "id": "5343d435",
   "metadata": {},
   "outputs": [
    {
     "data": {
      "text/html": [
       "<div>\n",
       "<style scoped>\n",
       "    .dataframe tbody tr th:only-of-type {\n",
       "        vertical-align: middle;\n",
       "    }\n",
       "\n",
       "    .dataframe tbody tr th {\n",
       "        vertical-align: top;\n",
       "    }\n",
       "\n",
       "    .dataframe thead th {\n",
       "        text-align: right;\n",
       "    }\n",
       "</style>\n",
       "<table border=\"1\" class=\"dataframe\">\n",
       "  <thead>\n",
       "    <tr style=\"text-align: right;\">\n",
       "      <th></th>\n",
       "      <th>sexo</th>\n",
       "      <th>peso</th>\n",
       "      <th>edad</th>\n",
       "      <th>nivel educativo</th>\n",
       "    </tr>\n",
       "  </thead>\n",
       "  <tbody>\n",
       "    <tr>\n",
       "      <th>0</th>\n",
       "      <td>H</td>\n",
       "      <td>43</td>\n",
       "      <td>15</td>\n",
       "      <td>Lic</td>\n",
       "    </tr>\n",
       "    <tr>\n",
       "      <th>1</th>\n",
       "      <td>M</td>\n",
       "      <td>35</td>\n",
       "      <td>21</td>\n",
       "      <td>Bach</td>\n",
       "    </tr>\n",
       "    <tr>\n",
       "      <th>2</th>\n",
       "      <td>H</td>\n",
       "      <td>96</td>\n",
       "      <td>19</td>\n",
       "      <td>Bach</td>\n",
       "    </tr>\n",
       "    <tr>\n",
       "      <th>3</th>\n",
       "      <td>M</td>\n",
       "      <td>56</td>\n",
       "      <td>17</td>\n",
       "      <td>Bach</td>\n",
       "    </tr>\n",
       "    <tr>\n",
       "      <th>4</th>\n",
       "      <td>H</td>\n",
       "      <td>25</td>\n",
       "      <td>25</td>\n",
       "      <td>Dr</td>\n",
       "    </tr>\n",
       "    <tr>\n",
       "      <th>5</th>\n",
       "      <td>M</td>\n",
       "      <td>48</td>\n",
       "      <td>35</td>\n",
       "      <td>MSc</td>\n",
       "    </tr>\n",
       "  </tbody>\n",
       "</table>\n",
       "</div>"
      ],
      "text/plain": [
       "  sexo peso edad nivel educativo\n",
       "0    H   43   15             Lic\n",
       "1    M   35   21            Bach\n",
       "2    H   96   19            Bach\n",
       "3    M   56   17            Bach\n",
       "4    H   25   25              Dr\n",
       "5    M   48   35             MSc"
      ]
     },
     "execution_count": 38,
     "metadata": {},
     "output_type": "execute_result"
    }
   ],
   "source": [
    "mi_df=pd.DataFrame(preguntatres)\n",
    "mi_df"
   ]
  },
  {
   "cell_type": "code",
   "execution_count": 39,
   "id": "fcceb44e",
   "metadata": {},
   "outputs": [
    {
     "data": {
      "text/plain": [
       "pandas.core.frame.DataFrame"
      ]
     },
     "execution_count": 39,
     "metadata": {},
     "output_type": "execute_result"
    }
   ],
   "source": [
    "type(mi_df)"
   ]
  },
  {
   "cell_type": "markdown",
   "id": "6e42b280",
   "metadata": {},
   "source": [
    "Escriba instrucciones en Python para sumar los numeros enteros elevados al cubo del 1 al 100\n",
    "\n",
    "\n",
    "\n",
    "\"\"\"hacerlo con while"
   ]
  },
  {
   "cell_type": "code",
   "execution_count": 47,
   "id": "83c2ac4c",
   "metadata": {},
   "outputs": [
    {
     "data": {
      "text/plain": [
       "25502500"
      ]
     },
     "execution_count": 47,
     "metadata": {},
     "output_type": "execute_result"
    }
   ],
   "source": [
    "def cubesum(n):\n",
    "    sum = 0\n",
    "    for i in range(n + 1):\n",
    "        valuecube = i ** 3\n",
    "        sum = sum + valuecube\n",
    "    return (sum)\n",
    "cubesum(100)"
   ]
  }
 ],
 "metadata": {
  "kernelspec": {
   "display_name": "Python 3 (ipykernel)",
   "language": "python",
   "name": "python3"
  },
  "language_info": {
   "codemirror_mode": {
    "name": "ipython",
    "version": 3
   },
   "file_extension": ".py",
   "mimetype": "text/x-python",
   "name": "python",
   "nbconvert_exporter": "python",
   "pygments_lexer": "ipython3",
   "version": "3.9.7"
  }
 },
 "nbformat": 4,
 "nbformat_minor": 5
}
